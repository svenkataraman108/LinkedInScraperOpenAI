{
  "nbformat": 4,
  "nbformat_minor": 0,
  "metadata": {
    "colab": {
      "provenance": [],
      "history_visible": true
    },
    "kernelspec": {
      "name": "python3",
      "display_name": "Python 3"
    },
    "language_info": {
      "name": "python"
    }
  },
  "cells": [
    {
      "cell_type": "code",
      "source": [
        "!pip install apify-client"
      ],
      "metadata": {
        "colab": {
          "base_uri": "https://localhost:8080/"
        },
        "id": "osdBIQQmJeLE",
        "outputId": "6a4bf439-4e22-40dc-fbd3-0d5f869643a5"
      },
      "execution_count": null,
      "outputs": [
        {
          "output_type": "stream",
          "name": "stdout",
          "text": [
            "Collecting apify-client\n",
            "  Downloading apify_client-1.7.1-py3-none-any.whl (70 kB)\n",
            "\u001b[2K     \u001b[90m━━━━━━━━━━━━━━━━━━━━━━━━━━━━━━━━━━━━━━━━\u001b[0m \u001b[32m70.6/70.6 kB\u001b[0m \u001b[31m1.6 MB/s\u001b[0m eta \u001b[36m0:00:00\u001b[0m\n",
            "\u001b[?25hCollecting apify-shared~=1.1.1 (from apify-client)\n",
            "  Downloading apify_shared-1.1.2-py3-none-any.whl (12 kB)\n",
            "Collecting httpx>=0.25.0 (from apify-client)\n",
            "  Downloading httpx-0.27.0-py3-none-any.whl (75 kB)\n",
            "\u001b[2K     \u001b[90m━━━━━━━━━━━━━━━━━━━━━━━━━━━━━━━━━━━━━━━━\u001b[0m \u001b[32m75.6/75.6 kB\u001b[0m \u001b[31m5.3 MB/s\u001b[0m eta \u001b[36m0:00:00\u001b[0m\n",
            "\u001b[?25hRequirement already satisfied: anyio in /usr/local/lib/python3.10/dist-packages (from httpx>=0.25.0->apify-client) (3.7.1)\n",
            "Requirement already satisfied: certifi in /usr/local/lib/python3.10/dist-packages (from httpx>=0.25.0->apify-client) (2024.7.4)\n",
            "Collecting httpcore==1.* (from httpx>=0.25.0->apify-client)\n",
            "  Downloading httpcore-1.0.5-py3-none-any.whl (77 kB)\n",
            "\u001b[2K     \u001b[90m━━━━━━━━━━━━━━━━━━━━━━━━━━━━━━━━━━━━━━━━\u001b[0m \u001b[32m77.9/77.9 kB\u001b[0m \u001b[31m7.3 MB/s\u001b[0m eta \u001b[36m0:00:00\u001b[0m\n",
            "\u001b[?25hRequirement already satisfied: idna in /usr/local/lib/python3.10/dist-packages (from httpx>=0.25.0->apify-client) (3.7)\n",
            "Requirement already satisfied: sniffio in /usr/local/lib/python3.10/dist-packages (from httpx>=0.25.0->apify-client) (1.3.1)\n",
            "Collecting h11<0.15,>=0.13 (from httpcore==1.*->httpx>=0.25.0->apify-client)\n",
            "  Downloading h11-0.14.0-py3-none-any.whl (58 kB)\n",
            "\u001b[2K     \u001b[90m━━━━━━━━━━━━━━━━━━━━━━━━━━━━━━━━━━━━━━━━\u001b[0m \u001b[32m58.3/58.3 kB\u001b[0m \u001b[31m2.8 MB/s\u001b[0m eta \u001b[36m0:00:00\u001b[0m\n",
            "\u001b[?25hRequirement already satisfied: exceptiongroup in /usr/local/lib/python3.10/dist-packages (from anyio->httpx>=0.25.0->apify-client) (1.2.1)\n",
            "Installing collected packages: h11, apify-shared, httpcore, httpx, apify-client\n",
            "Successfully installed apify-client-1.7.1 apify-shared-1.1.2 h11-0.14.0 httpcore-1.0.5 httpx-0.27.0\n"
          ]
        }
      ]
    },
    {
      "cell_type": "code",
      "source": [
        "\n",
        "from apify_client import ApifyClient\n",
        "\n",
        "# Initialize the ApifyClient with your API token\n",
        "client = ApifyClient(\"APIFY_KEY\")\n",
        "\n",
        "# Prepare the Actor input\n",
        "run_input = {\n",
        "    \"searchUrl\": \"https://www.linkedin.com/jobs/search/?currentJobId=3955024459&distance=25.0&f_TPR=r604800&geoId=103644278&keywords=summer%202025&origin=JOB_SEARCH_PAGE_JOB_FILTER\",\n",
        "    \"scrapeCompany\": True,\n",
        "    \"startPage\": 1,\n",
        "    \"count\": 25,\n",
        "    \"proxy\": {\n",
        "        \"useApifyProxy\": True,\n",
        "        \"apifyProxyGroups\": [\"BUYPROXIES94952\"],\n",
        "        \"apifyProxyCountry\": \"US\",\n",
        "    },\n",
        "    \"scrapeJobDetails\": False,\n",
        "    \"scrapeSkills\": False,\n",
        "    \"minDelay\": 2,\n",
        "    \"maxDelay\": 5,\n",
        "}\n",
        "\n",
        "# Run the Actor and wait for it to finish\n",
        "run = client.actor(\"gdbRh93zn42kBYDyS\").call(run_input=run_input)\n",
        "\n",
        "# Fetch and print Actor results from the run's dataset (if there are any)\n",
        "# for item in client.dataset(run[\"defaultDatasetId\"]).iterate_items():\n",
        "#     print(item)\n",
        "\n",
        "internship_list = []\n",
        "\n",
        "for item in client.dataset(run[\"defaultDatasetId\"]).iterate_items():\n",
        "    internship_list_item = item\n",
        "    internship_list.append(internship_list_item)\n",
        "\n",
        "internship_list[0]"
      ],
      "metadata": {
        "colab": {
          "base_uri": "https://localhost:8080/"
        },
        "id": "o5MNrBYrp-pc",
        "outputId": "831c94fb-3fce-430a-9b6b-88ad64171672"
      },
      "execution_count": null,
      "outputs": [
        {
          "output_type": "execute_result",
          "data": {
            "text/plain": [
              "{'id': '3972576540',\n",
              " 'refId': 'ms4QN/aEwSdXDy16rjsZHw==',\n",
              " 'link': 'https://www.linkedin.com/jobs/view/2025-summer-investment-analyst-at-bracebridge-capital-llc-3972576540?position=1&pageNum=0&refId=ms4QN%2FaEwSdXDy16rjsZHw%3D%3D&trackingId=GW3IA2LvTmScp%2F1nItwKlw%3D%3D&trk=public_jobs_jserp-result_search-card',\n",
              " 'title': '2025 Summer Investment Analyst',\n",
              " 'companyName': 'Bracebridge Capital, LLC',\n",
              " 'companyLinkedinUrl': 'https://www.linkedin.com/company/bracebridge-capital-llc?trk=public_jobs_jserp-result_job-search-card-subtitle',\n",
              " 'companyLogo': 'https://media.licdn.com/dms/image/C560BAQEAQ37NSZvQDQ/company-logo_100_100/0/1631391420796?e=2147483647&v=beta&t=67-0fMKQxkVONPK62iLHbHCsG1qKVlLNlMlCNQLjUGg',\n",
              " 'location': 'Boston, MA',\n",
              " 'salaryInfo': [''],\n",
              " 'postedAt': '2024-07-10',\n",
              " 'benefits': [],\n",
              " 'descriptionHtml': '<p>Summer Analysts will work directly on the trading floor alongside Analysts and Portfolio Managers and gain valuable exposure to various investment product areas such as Emerging Markets, Corporate Credit, Rates and Structured Products. Our summer experience is an opportunity not just to learn, but to contribute as well.</p><p><br></p><p><strong>Past Summer Analysts have:</strong></p><ul><li>Implemented a prototype for systematic relative value strategies in sovereign debt</li><li>Statistically determined predictive measurements of prepayment in non-QM RMBS portfolios and the sensitivity of those factors to current mortgage rates</li><li>Engaged in a CMBS data analysis project involving a large proprietary SQL database to look for indicators of default on commercial real estate properties</li><li>Researched and modeled the impact of the imminent transition from LIBOR to new benchmarks on legacy structured product collateral</li><li>Attended a series of presentations given by senior members of the firm to broaden knowledge of all facets of our hedge fund business</li></ul><p><br></p><p><strong>Required Skills and Credentials:</strong></p><ul><li>Class of 2026 students with top academic credentials who are pursuing a degree in Applied Mathematics, Economics, Computer Science, Mathematics, Engineering or related field</li><li>Students pursuing a non-quantitative degree are invited to apply if they have sufficient coursework in quantitative fields</li><li>Strong math, analytical and programming skills</li><li>Keen insight with an interest in pursuing a career in finance upon graduation</li><li>An eagerness to learn about international capital markets, trading strategies and risk analysis</li></ul>',\n",
              " 'applicantsCount': '25',\n",
              " 'applyUrl': 'https://boards.greenhouse.io/bracebridgecapital/jobs/4442591005',\n",
              " 'descriptionText': 'Summer Analysts will work directly on the trading floor alongside Analysts and Portfolio Managers and gain valuable exposure to various investment product areas such as Emerging Markets, Corporate Credit, Rates and Structured Products. Our summer experience is an opportunity not just to learn, but to contribute as well.Past Summer Analysts have:Implemented a prototype for systematic relative value strategies in sovereign debtStatistically determined predictive measurements of prepayment in non-QM RMBS portfolios and the sensitivity of those factors to current mortgage ratesEngaged in a CMBS data analysis project involving a large proprietary SQL database to look for indicators of default on commercial real estate propertiesResearched and modeled the impact of the imminent transition from LIBOR to new benchmarks on legacy structured product collateralAttended a series of presentations given by senior members of the firm to broaden knowledge of all facets of our hedge fund businessRequired Skills and Credentials:Class of 2026 students with top academic credentials who are pursuing a degree in Applied Mathematics, Economics, Computer Science, Mathematics, Engineering or related fieldStudents pursuing a non-quantitative degree are invited to apply if they have sufficient coursework in quantitative fieldsStrong math, analytical and programming skillsKeen insight with an interest in pursuing a career in finance upon graduationAn eagerness to learn about international capital markets, trading strategies and risk analysis',\n",
              " 'seniorityLevel': 'Internship',\n",
              " 'employmentType': 'Full-time',\n",
              " 'jobFunction': 'Analyst',\n",
              " 'industries': 'Financial Services',\n",
              " 'companyDescription': 'Bracebridge Capital, LLC is a leading hedge fund manager with approximately $12 billion of net assets under management.  The firm pursues investment strategies primarily within the global fixed income markets with the objectives of capital preservation and absolute return without significant correlation to equity, interest rate and foreign exchange markets.  Established in 1994, Bracebridge manages private investment funds that serve endowments, foundations, pension funds and other institutional and high-net-worth investors.\\n\\nApproximately 150 employees operate from our office located in Boston’s historic Back Bay.  The entrepreneurial and collaborative culture at Bracebridge rewards and supports motivated, dedicated, enthusiastic and intellectually curious individuals.  We believe our firm’s greatest asset is the people who work here.\\n',\n",
              " 'companyAddress': {'type': 'PostalAddress',\n",
              "  'streetAddress': '888 Boylston St',\n",
              "  'addressLocality': 'Boston',\n",
              "  'addressRegion': 'Massachusetts',\n",
              "  'postalCode': '02199',\n",
              "  'addressCountry': 'US'},\n",
              " 'companyWebsite': 'http://www.bracebridgecapital.com/',\n",
              " 'companyEmployeesCount': 161}"
            ]
          },
          "metadata": {},
          "execution_count": 29
        }
      ]
    },
    {
      "cell_type": "code",
      "source": [
        "def company_name_scrape(data):\n",
        "    if 'companyName' in item:\n",
        "      company = item['companyName']\n",
        "      return company\n",
        "    else:\n",
        "        return None\n",
        "\n",
        "\n",
        "def title_scrape(data):\n",
        "    if 'title' in item:\n",
        "      program = item['title']\n",
        "      return program\n",
        "    else:\n",
        "        return None\n",
        "\n",
        "\n",
        "def joblistingtitle(company, program):\n",
        "    joblisting = company + \" \" + program\n",
        "    return joblisting\n",
        "\n",
        "for item in Apifyclient.dataset(run[\"defaultDatasetId\"]).iterate_items():\n",
        "    print(joblistingtitle(company_name_scrape(item), title_scrape(item)))\n",
        "\n"
      ],
      "metadata": {
        "colab": {
          "base_uri": "https://localhost:8080/"
        },
        "id": "42bfQWI6qz9B",
        "outputId": "8caa7527-aa5b-4c2b-ed4c-04d64b2404a3"
      },
      "execution_count": null,
      "outputs": [
        {
          "output_type": "stream",
          "name": "stdout",
          "text": [
            "Bracebridge Capital, LLC 2025 Summer Investment Analyst\n",
            "Point72 2025 Point72 Academy Investment Analyst Summer Internship Program\n",
            "BlackRock 2025 Summer Internship Program – Hong Kong\n",
            "BlackRock 2025 Summer Internship Program – Singapore\n",
            "Colgate-Palmolive Logistics Intern\n",
            "BlackRock 2025 Summer Internship Program – Singapore\n",
            "BlackRock 2025 Summer Internship Program – Hong Kong\n",
            "BlackRock 2025 Summer Internship Program – Hong Kong\n",
            "SiriusXM Fall Intern, Technical Program Manager - Part Time\n",
            "BlackRock 2025 Summer Internship Program – Japan\n",
            "BlackRock 2025 Summer Internship Program – Singapore\n",
            "Blueground Talent Acquisition Associate, US\n",
            "Commonwealth of Massachusetts Contracted Student Intern - Marketing\n",
            "myGwork - LGBTQ+ Business Community Marketing Summer Internship\n",
            "Major League Soccer Sr. Coordinator, Marketing Planning & Operations\n",
            "Capital One Business Analyst Intern - Summer 2025\n",
            "Colgate-Palmolive Data Engineering Internship\n",
            "BlackRock 2025 Summer Internship Program – Japan\n",
            "Bank of America Wealth Management Summer Analyst Program - Private Bank 2025\n",
            "Kearney & Company Summer 2025 Internship Program - Kearney Technology Group Internship\n",
            "G2 Capital Advisors Summer Analyst (Summer 2025)\n",
            "Blue Origin Spring 2025 Software Engineering Intern - Undergraduate\n",
            "Wiss Intern, Data Analytics (Summer 2025)\n",
            "BASF Professional Development Program (PDP) Internship - Data Science Summer 2025\n",
            "WayUp Business Analyst Intern - Summer 2025\n",
            "Johnson & Johnson Summer 2025 Finance Internship\n",
            "CBRE Capital Markets Intern Program, Summer 2025\n",
            "Delta Air Lines Co-op, Flight Operations – Operations Support, Technology and Business Strategy (Spring, 2025)\n",
            "JPMorganChase 2025 Software Engineer Program - Summer Internship – United States\n",
            "Amo Realty Paid Commercial Real Estate Agent Internship\n"
          ]
        }
      ]
    },
    {
      "cell_type": "code",
      "source": [
        "def company_name_scrape(item):\n",
        "    if 'companyName' in item:\n",
        "        return item['companyName']\n",
        "    else:\n",
        "        return None\n",
        "\n",
        "def title_scrape(item):\n",
        "    if 'title' in item:\n",
        "        return item['title']\n",
        "    else:\n",
        "        return None\n",
        "\n",
        "def joblistingtitle(company, program):\n",
        "    return f\"{company} {program}\"\n",
        "\n",
        "def process_dataset_items(dataset_id):\n",
        "    internship_programs = []\n",
        "    unique_company_names = set()\n",
        "\n",
        "    for item in Apifyclient.dataset(dataset_id).iterate_items():\n",
        "        company_name = company_name_scrape(item)\n",
        "        title = title_scrape(item)\n",
        "\n",
        "        if company_name and title:\n",
        "            job_listing_title = joblistingtitle(company_name, title)\n",
        "\n",
        "            if company_name not in unique_company_names:\n",
        "                unique_company_names.add(company_name)\n",
        "                internship_programs.append(job_listing_title)\n",
        "\n",
        "    return internship_programs\n",
        "\n",
        "dataset_id = run[\"defaultDatasetId\"]\n",
        "intership_programs = process_dataset_items(dataset_id)\n",
        "\n",
        "for program in intership_programs:\n",
        "    print(program)\n"
      ],
      "metadata": {
        "colab": {
          "base_uri": "https://localhost:8080/"
        },
        "id": "Dax0fDMFOjSm",
        "outputId": "3213c72b-2697-4119-f81a-11377b99b430"
      },
      "execution_count": null,
      "outputs": [
        {
          "output_type": "stream",
          "name": "stdout",
          "text": [
            "Bracebridge Capital, LLC 2025 Summer Investment Analyst\n",
            "Point72 2025 Point72 Academy Investment Analyst Summer Internship Program\n",
            "BlackRock 2025 Summer Internship Program – Hong Kong\n",
            "Colgate-Palmolive Logistics Intern\n",
            "SiriusXM Fall Intern, Technical Program Manager - Part Time\n",
            "Blueground Talent Acquisition Associate, US\n",
            "Commonwealth of Massachusetts Contracted Student Intern - Marketing\n",
            "myGwork - LGBTQ+ Business Community Marketing Summer Internship\n",
            "Major League Soccer Sr. Coordinator, Marketing Planning & Operations\n",
            "Capital One Business Analyst Intern - Summer 2025\n",
            "Bank of America Wealth Management Summer Analyst Program - Private Bank 2025\n",
            "Kearney & Company Summer 2025 Internship Program - Kearney Technology Group Internship\n",
            "G2 Capital Advisors Summer Analyst (Summer 2025)\n",
            "Blue Origin Spring 2025 Software Engineering Intern - Undergraduate\n",
            "Wiss Intern, Data Analytics (Summer 2025)\n",
            "BASF Professional Development Program (PDP) Internship - Data Science Summer 2025\n",
            "WayUp Business Analyst Intern - Summer 2025\n",
            "Johnson & Johnson Summer 2025 Finance Internship\n",
            "CBRE Capital Markets Intern Program, Summer 2025\n",
            "Delta Air Lines Co-op, Flight Operations – Operations Support, Technology and Business Strategy (Spring, 2025)\n",
            "JPMorganChase 2025 Software Engineer Program - Summer Internship – United States\n",
            "Amo Realty Paid Commercial Real Estate Agent Internship\n"
          ]
        }
      ]
    },
    {
      "cell_type": "code",
      "source": [
        "description_html_list = []\n",
        "\n",
        "for item in Apifyclient.dataset(run[\"defaultDatasetId\"]).iterate_items():\n",
        "    description_html = item['descriptionHtml']\n",
        "    description_html_list.append(description_html)\n",
        "\n",
        "description_html_list[0]"
      ],
      "metadata": {
        "colab": {
          "base_uri": "https://localhost:8080/",
          "height": 143
        },
        "id": "VnjDtsu89MQr",
        "outputId": "e97f21a9-e3ef-4f11-c022-6eedea8dbe30"
      },
      "execution_count": null,
      "outputs": [
        {
          "output_type": "execute_result",
          "data": {
            "text/plain": [
              "'<p>Summer Analysts will work directly on the trading floor alongside Analysts and Portfolio Managers and gain valuable exposure to various investment product areas such as Emerging Markets, Corporate Credit, Rates and Structured Products. Our summer experience is an opportunity not just to learn, but to contribute as well.</p><p><br></p><p><strong>Past Summer Analysts have:</strong></p><ul><li>Implemented a prototype for systematic relative value strategies in sovereign debt</li><li>Statistically determined predictive measurements of prepayment in non-QM RMBS portfolios and the sensitivity of those factors to current mortgage rates</li><li>Engaged in a CMBS data analysis project involving a large proprietary SQL database to look for indicators of default on commercial real estate properties</li><li>Researched and modeled the impact of the imminent transition from LIBOR to new benchmarks on legacy structured product collateral</li><li>Attended a series of presentations given by senior members of the firm to broaden knowledge of all facets of our hedge fund business</li></ul><p><br></p><p><strong>Required Skills and Credentials:</strong></p><ul><li>Class of 2026 students with top academic credentials who are pursuing a degree in Applied Mathematics, Economics, Computer Science, Mathematics, Engineering or related field</li><li>Students pursuing a non-quantitative degree are invited to apply if they have sufficient coursework in quantitative fields</li><li>Strong math, analytical and programming skills</li><li>Keen insight with an interest in pursuing a career in finance upon graduation</li><li>An eagerness to learn about international capital markets, trading strategies and risk analysis</li></ul>'"
            ],
            "application/vnd.google.colaboratory.intrinsic+json": {
              "type": "string"
            }
          },
          "metadata": {},
          "execution_count": 11
        }
      ]
    },
    {
      "cell_type": "code",
      "source": [
        "!pip install openai\n",
        "\n"
      ],
      "metadata": {
        "colab": {
          "base_uri": "https://localhost:8080/"
        },
        "id": "KWOJtzuGq9Vd",
        "outputId": "891ad2cc-61aa-4c33-b428-dc52514ab544"
      },
      "execution_count": null,
      "outputs": [
        {
          "output_type": "stream",
          "name": "stdout",
          "text": [
            "Collecting openai\n",
            "  Downloading openai-1.35.13-py3-none-any.whl (328 kB)\n",
            "\u001b[?25l     \u001b[90m━━━━━━━━━━━━━━━━━━━━━━━━━━━━━━━━━━━━━━━━\u001b[0m \u001b[32m0.0/328.5 kB\u001b[0m \u001b[31m?\u001b[0m eta \u001b[36m-:--:--\u001b[0m\r\u001b[2K     \u001b[91m━━━━━━━━━━━━━━━━━━━━━━━━━━━━\u001b[0m\u001b[91m╸\u001b[0m\u001b[90m━━━━━━━━━━━\u001b[0m \u001b[32m235.5/328.5 kB\u001b[0m \u001b[31m6.7 MB/s\u001b[0m eta \u001b[36m0:00:01\u001b[0m\r\u001b[2K     \u001b[90m━━━━━━━━━━━━━━━━━━━━━━━━━━━━━━━━━━━━━━━━\u001b[0m \u001b[32m328.5/328.5 kB\u001b[0m \u001b[31m6.2 MB/s\u001b[0m eta \u001b[36m0:00:00\u001b[0m\n",
            "\u001b[?25hRequirement already satisfied: anyio<5,>=3.5.0 in /usr/local/lib/python3.10/dist-packages (from openai) (3.7.1)\n",
            "Requirement already satisfied: distro<2,>=1.7.0 in /usr/lib/python3/dist-packages (from openai) (1.7.0)\n",
            "Requirement already satisfied: httpx<1,>=0.23.0 in /usr/local/lib/python3.10/dist-packages (from openai) (0.27.0)\n",
            "Requirement already satisfied: pydantic<3,>=1.9.0 in /usr/local/lib/python3.10/dist-packages (from openai) (2.8.2)\n",
            "Requirement already satisfied: sniffio in /usr/local/lib/python3.10/dist-packages (from openai) (1.3.1)\n",
            "Requirement already satisfied: tqdm>4 in /usr/local/lib/python3.10/dist-packages (from openai) (4.66.4)\n",
            "Requirement already satisfied: typing-extensions<5,>=4.7 in /usr/local/lib/python3.10/dist-packages (from openai) (4.12.2)\n",
            "Requirement already satisfied: idna>=2.8 in /usr/local/lib/python3.10/dist-packages (from anyio<5,>=3.5.0->openai) (3.7)\n",
            "Requirement already satisfied: exceptiongroup in /usr/local/lib/python3.10/dist-packages (from anyio<5,>=3.5.0->openai) (1.2.1)\n",
            "Requirement already satisfied: certifi in /usr/local/lib/python3.10/dist-packages (from httpx<1,>=0.23.0->openai) (2024.7.4)\n",
            "Requirement already satisfied: httpcore==1.* in /usr/local/lib/python3.10/dist-packages (from httpx<1,>=0.23.0->openai) (1.0.5)\n",
            "Requirement already satisfied: h11<0.15,>=0.13 in /usr/local/lib/python3.10/dist-packages (from httpcore==1.*->httpx<1,>=0.23.0->openai) (0.14.0)\n",
            "Requirement already satisfied: annotated-types>=0.4.0 in /usr/local/lib/python3.10/dist-packages (from pydantic<3,>=1.9.0->openai) (0.7.0)\n",
            "Requirement already satisfied: pydantic-core==2.20.1 in /usr/local/lib/python3.10/dist-packages (from pydantic<3,>=1.9.0->openai) (2.20.1)\n",
            "Installing collected packages: openai\n",
            "Successfully installed openai-1.35.13\n"
          ]
        }
      ]
    },
    {
      "cell_type": "code",
      "source": [
        "# !npm install openai@^4.0.0\n"
      ],
      "metadata": {
        "id": "Wd75BCLHzlTq"
      },
      "execution_count": null,
      "outputs": []
    },
    {
      "cell_type": "code",
      "source": [
        "# !pip uninstall openai\n"
      ],
      "metadata": {
        "id": "4IkOhQ9CwXvG"
      },
      "execution_count": null,
      "outputs": []
    },
    {
      "cell_type": "code",
      "source": [
        "# !pip install --upgrade pip\n"
      ],
      "metadata": {
        "id": "vAvoN6m9wb8t"
      },
      "execution_count": null,
      "outputs": []
    },
    {
      "cell_type": "code",
      "source": [
        "!pip install --user openai # Install openai for the current user\n"
      ],
      "metadata": {
        "colab": {
          "base_uri": "https://localhost:8080/"
        },
        "id": "fNYi8yzPtqKt",
        "outputId": "849931a3-d0c0-4552-8dca-2484d7b6d8af"
      },
      "execution_count": null,
      "outputs": [
        {
          "output_type": "stream",
          "name": "stdout",
          "text": [
            "Requirement already satisfied: openai in /usr/local/lib/python3.10/dist-packages (1.35.13)\n",
            "Requirement already satisfied: anyio<5,>=3.5.0 in /usr/local/lib/python3.10/dist-packages (from openai) (3.7.1)\n",
            "Requirement already satisfied: distro<2,>=1.7.0 in /usr/lib/python3/dist-packages (from openai) (1.7.0)\n",
            "Requirement already satisfied: httpx<1,>=0.23.0 in /usr/local/lib/python3.10/dist-packages (from openai) (0.27.0)\n",
            "Requirement already satisfied: pydantic<3,>=1.9.0 in /usr/local/lib/python3.10/dist-packages (from openai) (2.8.2)\n",
            "Requirement already satisfied: sniffio in /usr/local/lib/python3.10/dist-packages (from openai) (1.3.1)\n",
            "Requirement already satisfied: tqdm>4 in /usr/local/lib/python3.10/dist-packages (from openai) (4.66.4)\n",
            "Requirement already satisfied: typing-extensions<5,>=4.7 in /usr/local/lib/python3.10/dist-packages (from openai) (4.12.2)\n",
            "Requirement already satisfied: idna>=2.8 in /usr/local/lib/python3.10/dist-packages (from anyio<5,>=3.5.0->openai) (3.7)\n",
            "Requirement already satisfied: exceptiongroup in /usr/local/lib/python3.10/dist-packages (from anyio<5,>=3.5.0->openai) (1.2.1)\n",
            "Requirement already satisfied: certifi in /usr/local/lib/python3.10/dist-packages (from httpx<1,>=0.23.0->openai) (2024.7.4)\n",
            "Requirement already satisfied: httpcore==1.* in /usr/local/lib/python3.10/dist-packages (from httpx<1,>=0.23.0->openai) (1.0.5)\n",
            "Requirement already satisfied: h11<0.15,>=0.13 in /usr/local/lib/python3.10/dist-packages (from httpcore==1.*->httpx<1,>=0.23.0->openai) (0.14.0)\n",
            "Requirement already satisfied: annotated-types>=0.4.0 in /usr/local/lib/python3.10/dist-packages (from pydantic<3,>=1.9.0->openai) (0.7.0)\n",
            "Requirement already satisfied: pydantic-core==2.20.1 in /usr/local/lib/python3.10/dist-packages (from pydantic<3,>=1.9.0->openai) (2.20.1)\n"
          ]
        }
      ]
    },
    {
      "cell_type": "code",
      "source": [
        "!pip uninstall openai\n"
      ],
      "metadata": {
        "id": "VPScbF9Iwvc2"
      },
      "execution_count": null,
      "outputs": []
    },
    {
      "cell_type": "code",
      "source": [
        "!pip install --upgrade openai\n"
      ],
      "metadata": {
        "colab": {
          "base_uri": "https://localhost:8080/"
        },
        "id": "gukzwSKEx6Ra",
        "outputId": "df09d59b-a271-4113-bb66-f254dcb7a841"
      },
      "execution_count": null,
      "outputs": [
        {
          "output_type": "stream",
          "name": "stdout",
          "text": [
            "Requirement already satisfied: openai in /usr/local/lib/python3.10/dist-packages (1.35.13)\n",
            "Requirement already satisfied: anyio<5,>=3.5.0 in /usr/local/lib/python3.10/dist-packages (from openai) (3.7.1)\n",
            "Requirement already satisfied: distro<2,>=1.7.0 in /usr/lib/python3/dist-packages (from openai) (1.7.0)\n",
            "Requirement already satisfied: httpx<1,>=0.23.0 in /usr/local/lib/python3.10/dist-packages (from openai) (0.27.0)\n",
            "Requirement already satisfied: pydantic<3,>=1.9.0 in /usr/local/lib/python3.10/dist-packages (from openai) (2.8.2)\n",
            "Requirement already satisfied: sniffio in /usr/local/lib/python3.10/dist-packages (from openai) (1.3.1)\n",
            "Requirement already satisfied: tqdm>4 in /usr/local/lib/python3.10/dist-packages (from openai) (4.66.4)\n",
            "Requirement already satisfied: typing-extensions<5,>=4.7 in /usr/local/lib/python3.10/dist-packages (from openai) (4.12.2)\n",
            "Requirement already satisfied: idna>=2.8 in /usr/local/lib/python3.10/dist-packages (from anyio<5,>=3.5.0->openai) (3.7)\n",
            "Requirement already satisfied: exceptiongroup in /usr/local/lib/python3.10/dist-packages (from anyio<5,>=3.5.0->openai) (1.2.1)\n",
            "Requirement already satisfied: certifi in /usr/local/lib/python3.10/dist-packages (from httpx<1,>=0.23.0->openai) (2024.7.4)\n",
            "Requirement already satisfied: httpcore==1.* in /usr/local/lib/python3.10/dist-packages (from httpx<1,>=0.23.0->openai) (1.0.5)\n",
            "Requirement already satisfied: h11<0.15,>=0.13 in /usr/local/lib/python3.10/dist-packages (from httpcore==1.*->httpx<1,>=0.23.0->openai) (0.14.0)\n",
            "Requirement already satisfied: annotated-types>=0.4.0 in /usr/local/lib/python3.10/dist-packages (from pydantic<3,>=1.9.0->openai) (0.7.0)\n",
            "Requirement already satisfied: pydantic-core==2.20.1 in /usr/local/lib/python3.10/dist-packages (from pydantic<3,>=1.9.0->openai) (2.20.1)\n"
          ]
        }
      ]
    },
    {
      "cell_type": "markdown",
      "source": [
        "test below"
      ],
      "metadata": {
        "id": "_LqqyKa8B648"
      }
    },
    {
      "cell_type": "code",
      "source": [
        "import os\n",
        "from openai import OpenAI\n",
        "\n",
        "os.environ[\"OPENAI_API_KEY\"] = \"API_KEY\"\n",
        "\n",
        "openai_client = OpenAI()\n",
        "\n",
        "chat_completion = openai_client.chat.completions.create(\n",
        "    messages=[\n",
        "        {\n",
        "            \"role\": \"user\",\n",
        "            \"content\": \"Tell me benefits of an internship\",\n",
        "        }\n",
        "    ],\n",
        "    model=\"gpt-3.5-turbo\",\n",
        ")\n",
        "\n",
        "print(chat_completion.choices[0].message)"
      ],
      "metadata": {
        "colab": {
          "base_uri": "https://localhost:8080/"
        },
        "id": "Lz4pNlll8NhA",
        "outputId": "eba2595e-ab8a-43db-f3b0-211bcf00b430"
      },
      "execution_count": null,
      "outputs": [
        {
          "output_type": "stream",
          "name": "stdout",
          "text": [
            "ChatCompletionMessage(content='There are many benefits to participating in an internship, including:\\n\\n1. Gain practical experience: Internships allow you to apply the knowledge and skills you have learned in the classroom to real-world situations. This hands-on experience can help you develop a deeper understanding of your field and enhance your skills.\\n\\n2. Build your professional network: Internships provide opportunities to connect with professionals in your industry, which can lead to mentorship, job opportunities, and valuable connections that can help advance your career.\\n\\n3. Explore career options: Internships give you the chance to explore different areas within your field of interest and help you determine what type of job you may want to pursue after graduation.\\n\\n4. Develop new skills: Internships often require you to learn new skills and adapt to new environments, which can help you become more versatile and adaptable in the workplace.\\n\\n5. Boost your resume: Having an internship on your resume can make you a more attractive candidate to future employers, as it shows that you have real-world experience and are proactive about your career development.\\n\\n6. Increase your job prospects: Many companies prefer to hire candidates who have completed internships with them, as they are already familiar with the company culture and processes, making it more likely for you to secure a job offer after graduation.\\n\\nOverall, internships provide valuable learning opportunities, professional connections, and practical experience that can help you succeed in your career. Consider seeking out internship opportunities that align with your interests and career goals to maximize the benefits of your experience.', role='assistant', function_call=None, tool_calls=None)\n"
          ]
        }
      ]
    },
    {
      "cell_type": "markdown",
      "source": [
        "actual implementation"
      ],
      "metadata": {
        "id": "m5Ke-pkgB8y2"
      }
    },
    {
      "cell_type": "code",
      "source": [
        "def generate_summary(description_html):\n",
        "    prompt = f\"With the following input:\\n\\n{internship_list[0]}\\n\\:, Write only job_company name and job_title. Give a detailed description about the company and tasks in the internship. Return only About company and job description, detailed. Return only job category, no additional output. Select only from this list of Categories: Architecture, Creative Design, Business/Market Research, Digital Marketing, Finance and Sales, Human Resources, Engineering, Operations, Software Development, Hotel Management, Science and Medicine, Law, Product Management. Job Type: (Select only from this list of Type: Full Time, Part Time, Internship, Volunteer, Apprenticeship) no additional output. Return External. Job gender: (Select only from this list of Gender: Male, Female, if not specified use default Both) return only the option. Job salary type: (Select only from this list of Type: Hourly, Weekly, Daily, Monthly, Yearly, Keep it Yearly if not specified) return only the option. Return only max job salary: (return only in numbers) Not Specified if not found. Return only min job salary: (return only in numbers) Not Specified if not found. Return only location: (select only from In-person, remote and hybrid) no additional output. Return only job qualification (Select only from this list of level: Manager, Student, Officer, Executive, Others) no additional output. Job Qualification: (Select only from this list of qualifications: Certificate, Associate Degree, Bachelor Degree, Masters Degree, Doctorate Degree. Keep default Bachelors Degree if Unspecified) no additional output.\"\n",
        "\n",
        "\n",
        "    chat_completion = openai_client.chat.completions.create(\n",
        "        messages=[\n",
        "            {\n",
        "                \"role\": \"user\",\n",
        "                \"content\": prompt,\n",
        "            }\n",
        "        ],\n",
        "        model=\"gpt-3.5-turbo\",\n",
        "  )\n",
        "    return chat_completion.choices[0].message\n",
        "\n",
        "generate_summary(description_html_list[0]) #too many tokens to run all of them at once. so i am starting with the first job posting & testing from there.\n"
      ],
      "metadata": {
        "colab": {
          "base_uri": "https://localhost:8080/"
        },
        "id": "7j7RzcPp8I96",
        "outputId": "7c8694ed-2bd2-43e4-8881-740a1ae6d2cc"
      },
      "execution_count": null,
      "outputs": [
        {
          "output_type": "execute_result",
          "data": {
            "text/plain": [
              "ChatCompletionMessage(content='External\\nArchitecture\\nAbout company: Bracebridge Capital, LLC is a leading hedge fund manager with approximately $12 billion of net assets under management. The firm pursues investment strategies primarily within the global fixed income markets with the objectives of capital preservation and absolute return without significant correlation to equity, interest rate and foreign exchange markets. Established in 1994, Bracebridge manages private investment funds that serve endowments, foundations, pension funds and other institutional and high-net-worth investors. Approximately 150 employees operate from our office located in Boston’s historic Back Bay. The entrepreneurial and collaborative culture at Bracebridge rewards and supports motivated, dedicated, enthusiastic and intellectually curious individuals. We believe our firm’s greatest asset is the people who work here.\\n\\nJob title: 2025 Summer Investment Analyst\\nJob Description: Summer Analysts will work directly on the trading floor alongside Analysts and Portfolio Managers and gain valuable exposure to various investment product areas such as Emerging Markets, Corporate Credit, Rates and Structured Products. Our summer experience is an opportunity not just to learn, but to contribute as well. Past Summer Analysts have implemented prototypes for systematic relative value strategies in sovereign debt, statistically determined predictive measurements of prepayment in non-QM RMBS portfolios, engaged in CMBS data analysis projects, researched and modeled the impact of the imminent transition from LIBOR to new benchmarks, and attended presentations given by senior members of the firm to broaden knowledge of all facets of the hedge fund business. Required Skills and Credentials include top academic credentials pursuing a degree in Applied Mathematics, Economics, Computer Science, Mathematics, Engineering or related fields, strong math, analytical and programming skills, keen insight with an interest in pursuing a career in finance upon graduation, and an eagerness to learn about international capital markets, trading strategies and risk analysis.\\n\\nJob Category: Finance and Sales\\nJob Type: Internship\\nJob gender: Both\\nJob salary type: Yearly\\nMax job salary: Not Specified\\nMin job salary: Not Specified\\nLocation: In-person\\nJob qualification level: Student\\nJob Qualification: Bachelors Degree', role='assistant', function_call=None, tool_calls=None)"
            ]
          },
          "metadata": {},
          "execution_count": 45
        }
      ]
    },
    {
      "cell_type": "markdown",
      "source": [
        "About SimonComputing, Inc.: SimonComputing is committed to simplifying the software development process and specializes in creating technically challenging applications for clients in both the public and private sectors.\n",
        "\n",
        "Internship Tasks:\n",
        "Interns will receive hands-on training in full stack software development through a mentorship program led by top technical staff. They will work on web-based projects in an Agile team environment, focusing on technical skills and Agile methodologies.\n",
        "\n",
        "Benefits of the Internship: Participants will have the opportunity to meet other developers, build products, and engage in team-building activities. The program aims to not only develop coding skills but also create a strong team and culture for building great software.\n",
        "\n",
        "Requirements:Applicants should have a strong grasp of basic Java programming (2-3 years of coding experience), the creative ability to solve logic problems, and a genuine interest in software development. It is highly desired that applicants have experience with software development outside of school, such as internships, personal projects, and hackathons."
      ],
      "metadata": {
        "id": "MSn1vNiNDb-W"
      }
    },
    {
      "cell_type": "code",
      "source": [
        "!pip install langchain-community langchain-core\n",
        "\n",
        "import os\n",
        "import json\n",
        "from datetime import datetime, timedelta\n",
        "from langchain.chat_models import ChatOpenAI\n",
        "from langchain.schema import HumanMessage, AIMessage, ChatMessage"
      ],
      "metadata": {
        "colab": {
          "base_uri": "https://localhost:8080/"
        },
        "id": "lS264WwbrpDd",
        "outputId": "764fa811-03f5-42ef-b9b6-85e5c1209756"
      },
      "execution_count": null,
      "outputs": [
        {
          "output_type": "stream",
          "name": "stdout",
          "text": [
            "Requirement already satisfied: langchain-community in /usr/local/lib/python3.10/dist-packages (0.2.7)\n",
            "Requirement already satisfied: langchain-core in /usr/local/lib/python3.10/dist-packages (0.2.17)\n",
            "Requirement already satisfied: PyYAML>=5.3 in /usr/local/lib/python3.10/dist-packages (from langchain-community) (6.0.1)\n",
            "Requirement already satisfied: SQLAlchemy<3,>=1.4 in /usr/local/lib/python3.10/dist-packages (from langchain-community) (2.0.31)\n",
            "Requirement already satisfied: aiohttp<4.0.0,>=3.8.3 in /usr/local/lib/python3.10/dist-packages (from langchain-community) (3.9.5)\n",
            "Requirement already satisfied: dataclasses-json<0.7,>=0.5.7 in /usr/local/lib/python3.10/dist-packages (from langchain-community) (0.6.7)\n",
            "Requirement already satisfied: langchain<0.3.0,>=0.2.7 in /usr/local/lib/python3.10/dist-packages (from langchain-community) (0.2.7)\n",
            "Requirement already satisfied: langsmith<0.2.0,>=0.1.0 in /usr/local/lib/python3.10/dist-packages (from langchain-community) (0.1.85)\n",
            "Requirement already satisfied: numpy<2,>=1 in /usr/local/lib/python3.10/dist-packages (from langchain-community) (1.25.2)\n",
            "Requirement already satisfied: requests<3,>=2 in /usr/local/lib/python3.10/dist-packages (from langchain-community) (2.31.0)\n",
            "Requirement already satisfied: tenacity!=8.4.0,<9.0.0,>=8.1.0 in /usr/local/lib/python3.10/dist-packages (from langchain-community) (8.5.0)\n",
            "Requirement already satisfied: jsonpatch<2.0,>=1.33 in /usr/local/lib/python3.10/dist-packages (from langchain-core) (1.33)\n",
            "Requirement already satisfied: packaging<25,>=23.2 in /usr/local/lib/python3.10/dist-packages (from langchain-core) (24.1)\n",
            "Requirement already satisfied: pydantic<3,>=1 in /usr/local/lib/python3.10/dist-packages (from langchain-core) (2.8.2)\n",
            "Requirement already satisfied: aiosignal>=1.1.2 in /usr/local/lib/python3.10/dist-packages (from aiohttp<4.0.0,>=3.8.3->langchain-community) (1.3.1)\n",
            "Requirement already satisfied: attrs>=17.3.0 in /usr/local/lib/python3.10/dist-packages (from aiohttp<4.0.0,>=3.8.3->langchain-community) (23.2.0)\n",
            "Requirement already satisfied: frozenlist>=1.1.1 in /usr/local/lib/python3.10/dist-packages (from aiohttp<4.0.0,>=3.8.3->langchain-community) (1.4.1)\n",
            "Requirement already satisfied: multidict<7.0,>=4.5 in /usr/local/lib/python3.10/dist-packages (from aiohttp<4.0.0,>=3.8.3->langchain-community) (6.0.5)\n",
            "Requirement already satisfied: yarl<2.0,>=1.0 in /usr/local/lib/python3.10/dist-packages (from aiohttp<4.0.0,>=3.8.3->langchain-community) (1.9.4)\n",
            "Requirement already satisfied: async-timeout<5.0,>=4.0 in /usr/local/lib/python3.10/dist-packages (from aiohttp<4.0.0,>=3.8.3->langchain-community) (4.0.3)\n",
            "Requirement already satisfied: marshmallow<4.0.0,>=3.18.0 in /usr/local/lib/python3.10/dist-packages (from dataclasses-json<0.7,>=0.5.7->langchain-community) (3.21.3)\n",
            "Requirement already satisfied: typing-inspect<1,>=0.4.0 in /usr/local/lib/python3.10/dist-packages (from dataclasses-json<0.7,>=0.5.7->langchain-community) (0.9.0)\n",
            "Requirement already satisfied: jsonpointer>=1.9 in /usr/local/lib/python3.10/dist-packages (from jsonpatch<2.0,>=1.33->langchain-core) (3.0.0)\n",
            "Requirement already satisfied: langchain-text-splitters<0.3.0,>=0.2.0 in /usr/local/lib/python3.10/dist-packages (from langchain<0.3.0,>=0.2.7->langchain-community) (0.2.2)\n",
            "Requirement already satisfied: orjson<4.0.0,>=3.9.14 in /usr/local/lib/python3.10/dist-packages (from langsmith<0.2.0,>=0.1.0->langchain-community) (3.10.6)\n",
            "Requirement already satisfied: annotated-types>=0.4.0 in /usr/local/lib/python3.10/dist-packages (from pydantic<3,>=1->langchain-core) (0.7.0)\n",
            "Requirement already satisfied: pydantic-core==2.20.1 in /usr/local/lib/python3.10/dist-packages (from pydantic<3,>=1->langchain-core) (2.20.1)\n",
            "Requirement already satisfied: typing-extensions>=4.6.1 in /usr/local/lib/python3.10/dist-packages (from pydantic<3,>=1->langchain-core) (4.12.2)\n",
            "Requirement already satisfied: charset-normalizer<4,>=2 in /usr/local/lib/python3.10/dist-packages (from requests<3,>=2->langchain-community) (3.3.2)\n",
            "Requirement already satisfied: idna<4,>=2.5 in /usr/local/lib/python3.10/dist-packages (from requests<3,>=2->langchain-community) (3.7)\n",
            "Requirement already satisfied: urllib3<3,>=1.21.1 in /usr/local/lib/python3.10/dist-packages (from requests<3,>=2->langchain-community) (2.0.7)\n",
            "Requirement already satisfied: certifi>=2017.4.17 in /usr/local/lib/python3.10/dist-packages (from requests<3,>=2->langchain-community) (2024.7.4)\n",
            "Requirement already satisfied: greenlet!=0.4.17 in /usr/local/lib/python3.10/dist-packages (from SQLAlchemy<3,>=1.4->langchain-community) (3.0.3)\n",
            "Requirement already satisfied: mypy-extensions>=0.3.0 in /usr/local/lib/python3.10/dist-packages (from typing-inspect<1,>=0.4.0->dataclasses-json<0.7,>=0.5.7->langchain-community) (1.0.0)\n"
          ]
        }
      ]
    },
    {
      "cell_type": "code",
      "source": [
        "function_descriptions_multiple = [\n",
        "    {\n",
        "        \"name\": \"job_company\",\n",
        "        \"description\": \"write only company name: \",\n",
        "        \"parameters\": {\n",
        "            \"type\": \"object\",\n",
        "            \"properties\": {\n",
        "                \"company_name\": {\n",
        "                    \"type\": \"string\",\n",
        "                },\n",
        "            },\n",
        "            \"required\": [\"company_name\"]\n",
        "        },\n",
        "    },\n",
        "        {\n",
        "        \"name\": \"job_title\",\n",
        "        \"description\": \"Return the title of the internship \",\n",
        "        \"parameters\": {\n",
        "            \"type\": \"object\",\n",
        "            \"properties\": {\n",
        "                \"company_title\": {\n",
        "                    \"type\": \"string\",\n",
        "                },\n",
        "            },\n",
        "            \"required\": [\"company_title\"]\n",
        "        },\n",
        "    },\n",
        "        {\n",
        "        \"name\": \"job_description\",\n",
        "        \"description\": \"Give a detailed description about the tasks in the internship.\",\n",
        "        \"parameters\": {\n",
        "            \"type\": \"object\",\n",
        "            \"properties\": {\n",
        "                \"internship_description\": {\n",
        "                    \"type\": \"string\",\n",
        "                },\n",
        "            },\n",
        "            \"required\": [\"internship_description\"]\n",
        "        },\n",
        "    },\n",
        "            {\n",
        "        \"name\": \"job_category\",\n",
        "        \"description\": \"return only job category, no additional output. Select only from this list of Categories: Architecture, Creative Design,Business/Market Research,Digital Marketing,Finance and Sales,Human Resources,Engineering,Operations,Software Development,Hotel Management,Science and Medicine,Law,Product Management:\",\n",
        "        \"parameters\": {\n",
        "            \"type\": \"object\",\n",
        "            \"properties\": {\n",
        "                \"internship_category\": {\n",
        "                    \"type\": \"string\",\n",
        "                },\n",
        "            },\n",
        "            \"required\": [\"internship_category\"]\n",
        "        },\n",
        "    },\n",
        "                {\n",
        "        \"name\": \"job_type\",\n",
        "        \"description\": \"Return Job Type:(Select only from this list of Type: Full-time, Part-time, Internship, Volunteer, Apprenticeship) no additional output: \",\n",
        "        \"parameters\": {\n",
        "            \"type\": \"object\",\n",
        "            \"properties\": {\n",
        "                \"internship_type\": {\n",
        "                    \"type\": \"string\",\n",
        "                },\n",
        "            },\n",
        "            \"required\": [\"internship_type\"]\n",
        "        },\n",
        "    },\n",
        "                    {\n",
        "        \"name\": \"job_apply_type\",\n",
        "        \"description\": \"return External:\",\n",
        "        \"parameters\": {\n",
        "            \"type\": \"object\",\n",
        "            \"properties\": {\n",
        "                \"internship_apply_type\": {\n",
        "                    \"type\": \"string\",\n",
        "                },\n",
        "            },\n",
        "            \"required\": [\"internship_apply_type\"]\n",
        "        },\n",
        "    },\n",
        "    {\n",
        "        \"name\": \"job_gender\",\n",
        "        \"description\": \"Return Job gender: (Select only from this list of Gender: Male, Female, if not specified use default Both)return only the option \",\n",
        "        \"parameters\": {\n",
        "            \"type\": \"object\",\n",
        "            \"properties\": {\n",
        "                \"internship_gender\": {\n",
        "                    \"type\": \"string\",\n",
        "                },\n",
        "            },\n",
        "            \"required\": [\"internship_gender\"]\n",
        "        },\n",
        "    },\n",
        "\n",
        "   {\n",
        "        \"name\": \"job_salary\",\n",
        "        \"description\": \"Return job salary type: (Select only from this list of Type: Hourly, Weekly, Daily, Monthly, Yearly, Keep it Yearly if not specified)return only the option\",\n",
        "        \"parameters\": {\n",
        "            \"type\": \"object\",\n",
        "            \"properties\": {\n",
        "                \"internship_salary\": {\n",
        "                    \"type\": \"string\",\n",
        "                },\n",
        "            },\n",
        "            \"required\": [\"internship_salary\"]\n",
        "        },\n",
        "    },\n",
        "       {\n",
        "        \"name\": \"job_salary_max\",\n",
        "        \"description\": \"Return only max job salary: (return only in numbers) Not Specified if not found:\",\n",
        "        \"parameters\": {\n",
        "            \"type\": \"object\",\n",
        "            \"properties\": {\n",
        "                \"internship_salary_max\": {\n",
        "                    \"type\": \"string\",\n",
        "                },\n",
        "            },\n",
        "            \"required\": [\"internship_salary_max\"]\n",
        "        },\n",
        "    },\n",
        "           {\n",
        "        \"name\": \"job_salary_min\",\n",
        "        \"description\": \"Return only min job salary: (return only in numbers) Not Specified if not found:\",\n",
        "        \"parameters\": {\n",
        "            \"type\": \"object\",\n",
        "            \"properties\": {\n",
        "                \"internship_salary_min\": {\n",
        "                    \"type\": \"string\",\n",
        "                },\n",
        "            },\n",
        "            \"required\": [\"internship_salary_min\"]\n",
        "        },\n",
        "    },\n",
        "     {\n",
        "        \"name\": \"job_location\",\n",
        "        \"description\": \"return only location:(select only from In-person, remote and hybrid)no additional output \",\n",
        "        \"parameters\": {\n",
        "            \"type\": \"object\",\n",
        "            \"properties\": {\n",
        "                \"internship_location\": {\n",
        "                    \"type\": \"string\",\n",
        "                },\n",
        "            },\n",
        "            \"required\": [\"internship_location\"]\n",
        "        },\n",
        "    },\n",
        "       {\n",
        "        \"name\": \"job_career_level\",\n",
        "        \"description\": \"Return only from this list of level that is required: Manager, Student, Officer, Executive, Others)no additional output\",\n",
        "        \"parameters\": {\n",
        "            \"type\": \"object\",\n",
        "            \"properties\": {\n",
        "                \"internship_level\": {\n",
        "                    \"type\": \"string\",\n",
        "                },\n",
        "            },\n",
        "            \"required\": [\"internship_level\"]\n",
        "        },\n",
        "    },\n",
        "    {\n",
        "        \"name\": \"job_qualification\",\n",
        "        \"description\": \" Return Job Qualification requirement:(Select only from this list of qualifications: Certificate, Associate Degree, Bachelor's Degree, Masters Degree, Doctorate Degree. Return Bachelor's Degree if not able to find.\",\n",
        "        \"parameters\": {\n",
        "            \"type\": \"object\",\n",
        "            \"properties\": {\n",
        "                \"internship_qualification\": {\n",
        "                    \"type\": \"string\",\n",
        "                },\n",
        "            },\n",
        "            \"required\": [\"internship_qualification\"]\n",
        "        },\n",
        "    },\n",
        "\n",
        "]\n",
        "\n",
        "user_prompt = f\"Extract the following from the internship details:\\n\\n{internship_list[0]}\\n\"\n",
        "\n",
        "llm = ChatOpenAI(model=\"gpt-3.5-turbo\", temperature=0)\n",
        "\n",
        "responses = {}\n",
        "\n",
        "for function in function_descriptions_multiple:\n",
        "    function_name = function[\"name\"]\n",
        "    description = function[\"description\"]\n",
        "\n",
        "    prompt_for_function = f\"{description}\\nUse the following input:\\n\\n{internship_list[0]}\\n\"\n",
        "\n",
        "    first_response = llm.predict_messages(\n",
        "        [\n",
        "            HumanMessage(content=prompt_for_function),\n",
        "        ],\n",
        "        functions=function_descriptions_multiple\n",
        "    )\n",
        "\n",
        "    if first_response.additional_kwargs.get(\"function_call\"):\n",
        "        function_call_name = first_response.additional_kwargs[\"function_call\"][\"name\"]\n",
        "        function_arguments = first_response.additional_kwargs[\"function_call\"][\"arguments\"]\n",
        "\n",
        "        responses[function_name] = function_arguments\n",
        "\n",
        "        second_response = llm.predict_messages(\n",
        "            [\n",
        "                HumanMessage(content=prompt_for_function),\n",
        "                AIMessage(\n",
        "                    role=\"function\",\n",
        "                    additional_kwargs={\n",
        "                        \"name\": function_call_name,\n",
        "                        \"arguments\": function_arguments\n",
        "                    },\n",
        "                    content=f\"Completed function {function_call_name}\",\n",
        "                ),\n",
        "            ],\n",
        "            functions=function_descriptions_multiple,\n",
        "        )\n",
        "\n",
        "        responses[function_name] = second_response\n",
        "\n",
        "internship_dict= {}\n",
        "\n",
        "for function_name, response in responses.items():\n",
        "  internship_dict[function_name] = response.content\n",
        "\n",
        "print(internship_dict)\n",
        "\n",
        "print(internship_dict['job_description'])"
      ],
      "metadata": {
        "colab": {
          "base_uri": "https://localhost:8080/"
        },
        "id": "JNlsazBs9cuP",
        "outputId": "91b065e1-7e9d-4826-ce8b-2b2e06a34767"
      },
      "execution_count": null,
      "outputs": [
        {
          "output_type": "stream",
          "name": "stdout",
          "text": [
            "{'job_company': 'Bracebridge Capital, LLC', 'job_title': 'The title of the internship is \"2025 Summer Investment Analyst\"', 'job_description': 'The tasks in the internship as a Summer Investment Analyst at Bracebridge Capital, LLC include:\\n\\n- Working directly on the trading floor alongside Analysts and Portfolio Managers\\n- Gaining valuable exposure to various investment product areas such as Emerging Markets, Corporate Credit, Rates, and Structured Products\\n- Implementing a prototype for systematic relative value strategies in sovereign debt\\n- Statistically determining predictive measurements of prepayment in non-QM RMBS portfolios and the sensitivity of those factors to current mortgage rates\\n- Engaging in a CMBS data analysis project involving a large proprietary SQL database to look for indicators of default on commercial real estate properties\\n- Researching and modeling the impact of the imminent transition from LIBOR to new benchmarks on legacy structured product collateral\\n- Attending a series of presentations given by senior members of the firm to broaden knowledge of all facets of the hedge fund business\\n\\nRequired Skills and Credentials:\\n- Class of 2026 students with top academic credentials pursuing a degree in Applied Mathematics, Economics, Computer Science, Mathematics, Engineering, or related field\\n- Strong math, analytical, and programming skills\\n- Keen insight with an interest in pursuing a career in finance upon graduation\\n- An eagerness to learn about international capital markets, trading strategies, and risk analysis', 'job_category': 'The job category for the internship at Bracebridge Capital, LLC is Finance and Sales.', 'job_type': 'The job type for the internship at Bracebridge Capital, LLC is Full-time.', 'job_apply_type': 'External', 'job_gender': 'The job gender for the internship at Bracebridge Capital, LLC is Both.', 'job_salary': 'The job salary type for the internship at Bracebridge Capital, LLC is not specified.', 'job_salary_max': 'Not Specified', 'job_salary_min': 'The minimum job salary is not specified for the internship.', 'job_location': 'In-person', 'job_career_level': 'The required career level for this internship is \"Student\".', 'job_qualification': \"Bachelor's Degree\"}\n",
            "The tasks in the internship as a Summer Investment Analyst at Bracebridge Capital, LLC include:\n",
            "\n",
            "- Working directly on the trading floor alongside Analysts and Portfolio Managers\n",
            "- Gaining valuable exposure to various investment product areas such as Emerging Markets, Corporate Credit, Rates, and Structured Products\n",
            "- Implementing a prototype for systematic relative value strategies in sovereign debt\n",
            "- Statistically determining predictive measurements of prepayment in non-QM RMBS portfolios and the sensitivity of those factors to current mortgage rates\n",
            "- Engaging in a CMBS data analysis project involving a large proprietary SQL database to look for indicators of default on commercial real estate properties\n",
            "- Researching and modeling the impact of the imminent transition from LIBOR to new benchmarks on legacy structured product collateral\n",
            "- Attending a series of presentations given by senior members of the firm to broaden knowledge of all facets of the hedge fund business\n",
            "\n",
            "Required Skills and Credentials:\n",
            "- Class of 2026 students with top academic credentials pursuing a degree in Applied Mathematics, Economics, Computer Science, Mathematics, Engineering, or related field\n",
            "- Strong math, analytical, and programming skills\n",
            "- Keen insight with an interest in pursuing a career in finance upon graduation\n",
            "- An eagerness to learn about international capital markets, trading strategies, and risk analysis\n"
          ]
        }
      ]
    }
  ]
}